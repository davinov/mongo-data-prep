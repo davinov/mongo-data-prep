{
 "cells": [
  {
   "cell_type": "markdown",
   "metadata": {},
   "source": [
    "Our amazing experiment with dask!"
   ]
  },
  {
   "cell_type": "code",
   "execution_count": 28,
   "metadata": {},
   "outputs": [
    {
     "name": "stdout",
     "output_type": "stream",
     "text": [
      "Requirement already satisfied: docker in /home/rachelle2/.pyenv/versions/3.6.9/envs/laputa-3.6/lib/python3.6/site-packages (4.2.0)\n",
      "Requirement already satisfied: pymongo in /home/rachelle2/.pyenv/versions/3.6.9/envs/laputa-3.6/lib/python3.6/site-packages (3.10.1)\n",
      "Requirement already satisfied: dask in /home/rachelle2/.pyenv/versions/3.6.9/envs/laputa-3.6/lib/python3.6/site-packages (2.15.0)\n",
      "Requirement already satisfied: six>=1.4.0 in /home/rachelle2/.pyenv/versions/3.6.9/envs/laputa-3.6/lib/python3.6/site-packages (from docker) (1.14.0)\n",
      "Requirement already satisfied: websocket-client>=0.32.0 in /home/rachelle2/.pyenv/versions/3.6.9/envs/laputa-3.6/lib/python3.6/site-packages (from docker) (0.57.0)\n",
      "Requirement already satisfied: requests!=2.18.0,>=2.14.2 in /home/rachelle2/.pyenv/versions/3.6.9/envs/laputa-3.6/lib/python3.6/site-packages (from docker) (2.23.0)\n",
      "Requirement already satisfied: certifi>=2017.4.17 in /home/rachelle2/.pyenv/versions/3.6.9/envs/laputa-3.6/lib/python3.6/site-packages (from requests!=2.18.0,>=2.14.2->docker) (2020.4.5.1)\n",
      "Requirement already satisfied: chardet<4,>=3.0.2 in /home/rachelle2/.pyenv/versions/3.6.9/envs/laputa-3.6/lib/python3.6/site-packages (from requests!=2.18.0,>=2.14.2->docker) (3.0.4)\n",
      "Requirement already satisfied: idna<3,>=2.5 in /home/rachelle2/.pyenv/versions/3.6.9/envs/laputa-3.6/lib/python3.6/site-packages (from requests!=2.18.0,>=2.14.2->docker) (2.9)\n",
      "Requirement already satisfied: urllib3!=1.25.0,!=1.25.1,<1.26,>=1.21.1 in /home/rachelle2/.pyenv/versions/3.6.9/envs/laputa-3.6/lib/python3.6/site-packages (from requests!=2.18.0,>=2.14.2->docker) (1.24.3)\n",
      "\u001b[33mWARNING: You are using pip version 20.0.2; however, version 20.1 is available.\n",
      "You should consider upgrading via the '/home/rachelle2/.pyenv/versions/3.6.9/envs/laputa-3.6/bin/python3.6 -m pip install --upgrade pip' command.\u001b[0m\n",
      "Note: you may need to restart the kernel to use updated packages.\n"
     ]
    }
   ],
   "source": [
    "%pip install docker pymongo dask"
   ]
  },
  {
   "cell_type": "markdown",
   "metadata": {},
   "source": [
    "Some test functions for emulating a Mongo pipeline with Dask"
   ]
  },
  {
   "cell_type": "code",
   "execution_count": 1,
   "metadata": {},
   "outputs": [],
   "source": [
    "def f_1():\n",
    "    return 42\n",
    "\n",
    "def f_2(param):\n",
    "    print('f_2 ', param)\n",
    "    return param / 2\n",
    "\n",
    "def f_3(param):\n",
    "    print('f_3 ', param)\n",
    "    return param ** 2"
   ]
  },
  {
   "cell_type": "markdown",
   "metadata": {},
   "source": [
    "Create a test pipeline"
   ]
  },
  {
   "cell_type": "code",
   "execution_count": 6,
   "metadata": {},
   "outputs": [],
   "source": [
    "dsk = {\n",
    "    'output1' : f_1(),\n",
    "    'output2' : (f_2, 'output1'),\n",
    "    'output3' : (f_3, 'output2')\n",
    "}"
   ]
  },
  {
   "cell_type": "markdown",
   "metadata": {},
   "source": [
    "Import dask for test"
   ]
  },
  {
   "cell_type": "code",
   "execution_count": 7,
   "metadata": {},
   "outputs": [
    {
     "name": "stdout",
     "output_type": "stream",
     "text": [
      "f_2  42\n",
      "f_3  21.0\n"
     ]
    },
    {
     "data": {
      "text/plain": [
       "(441.0,)"
      ]
     },
     "execution_count": 7,
     "metadata": {},
     "output_type": "execute_result"
    }
   ],
   "source": [
    "import dask\n",
    "\n",
    "dask.get(dsk, ['output3'])"
   ]
  },
  {
   "cell_type": "code",
   "execution_count": 8,
   "metadata": {},
   "outputs": [
    {
     "data": {
      "image/png": "[encoded data removed]",
      "text/plain": [
       "<IPython.core.display.Image object>"
      ]
     },
     "execution_count": 8,
     "metadata": {},
     "output_type": "execute_result"
    }
   ],
   "source": [
    "dask.visualize(dsk)"
   ]
  }
 ],
 "metadata": {
  "kernelspec": {
   "display_name": "Python 3",
   "language": "python",
   "name": "python3"
  },
  "language_info": {
   "codemirror_mode": {
    "name": "ipython",
    "version": 3
   },
   "file_extension": ".py",
   "mimetype": "text/x-python",
   "name": "python",
   "nbconvert_exporter": "python",
   "pygments_lexer": "ipython3",
   "version": "3.6.9"
  }
 },
 "nbformat": 4,
 "nbformat_minor": 4
}
