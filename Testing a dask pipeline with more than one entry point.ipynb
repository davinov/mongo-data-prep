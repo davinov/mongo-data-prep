{
 "cells": [
  {
   "cell_type": "markdown",
   "metadata": {},
   "source": [
    "## Initial set up of containers and so on"
   ]
  },
  {
   "cell_type": "code",
   "execution_count": 2,
   "metadata": {
    "scrolled": true
   },
   "outputs": [
    {
     "name": "stdout",
     "output_type": "stream",
     "text": [
      "Requirement already satisfied: docker in /home/rachelle2/.pyenv/versions/3.6.9/envs/laputa-3.6/lib/python3.6/site-packages (4.2.0)\n",
      "Requirement already satisfied: pymongo in /home/rachelle2/.pyenv/versions/3.6.9/envs/laputa-3.6/lib/python3.6/site-packages (3.10.1)\n",
      "Requirement already satisfied: dask[complete] in /home/rachelle2/.pyenv/versions/3.6.9/envs/laputa-3.6/lib/python3.6/site-packages (2.16.0)\n",
      "Requirement already satisfied: graphviz in /home/rachelle2/.pyenv/versions/3.6.9/envs/laputa-3.6/lib/python3.6/site-packages (0.14)\n",
      "Requirement already satisfied: six>=1.4.0 in /home/rachelle2/.pyenv/versions/3.6.9/envs/laputa-3.6/lib/python3.6/site-packages (from docker) (1.15.0)\n",
      "Requirement already satisfied: websocket-client>=0.32.0 in /home/rachelle2/.pyenv/versions/3.6.9/envs/laputa-3.6/lib/python3.6/site-packages (from docker) (0.57.0)\n",
      "Requirement already satisfied: requests!=2.18.0,>=2.14.2 in /home/rachelle2/.pyenv/versions/3.6.9/envs/laputa-3.6/lib/python3.6/site-packages (from docker) (2.23.0)\n",
      "Requirement already satisfied: toolz>=0.8.2; extra == \"complete\" in /home/rachelle2/.pyenv/versions/3.6.9/envs/laputa-3.6/lib/python3.6/site-packages (from dask[complete]) (0.10.0)\n",
      "Requirement already satisfied: numpy>=1.13.0; extra == \"complete\" in /home/rachelle2/.pyenv/versions/3.6.9/envs/laputa-3.6/lib/python3.6/site-packages (from dask[complete]) (1.18.4)\n",
      "Requirement already satisfied: pandas>=0.23.0; extra == \"complete\" in /home/rachelle2/.pyenv/versions/3.6.9/envs/laputa-3.6/lib/python3.6/site-packages (from dask[complete]) (1.0.3)\n",
      "Requirement already satisfied: bokeh>=1.0.0; extra == \"complete\" in /home/rachelle2/.pyenv/versions/3.6.9/envs/laputa-3.6/lib/python3.6/site-packages (from dask[complete]) (2.0.2)\n",
      "Requirement already satisfied: partd>=0.3.10; extra == \"complete\" in /home/rachelle2/.pyenv/versions/3.6.9/envs/laputa-3.6/lib/python3.6/site-packages (from dask[complete]) (1.1.0)\n",
      "Requirement already satisfied: fsspec>=0.6.0; extra == \"complete\" in /home/rachelle2/.pyenv/versions/3.6.9/envs/laputa-3.6/lib/python3.6/site-packages (from dask[complete]) (0.7.4)\n",
      "Requirement already satisfied: distributed>=2.0; extra == \"complete\" in /home/rachelle2/.pyenv/versions/3.6.9/envs/laputa-3.6/lib/python3.6/site-packages (from dask[complete]) (2.16.0)\n",
      "Requirement already satisfied: cloudpickle>=0.2.2; extra == \"complete\" in /home/rachelle2/.pyenv/versions/3.6.9/envs/laputa-3.6/lib/python3.6/site-packages (from dask[complete]) (1.4.1)\n",
      "Requirement already satisfied: PyYaml; extra == \"complete\" in /home/rachelle2/.pyenv/versions/3.6.9/envs/laputa-3.6/lib/python3.6/site-packages (from dask[complete]) (5.3.1)\n",
      "Requirement already satisfied: urllib3!=1.25.0,!=1.25.1,<1.26,>=1.21.1 in /home/rachelle2/.pyenv/versions/3.6.9/envs/laputa-3.6/lib/python3.6/site-packages (from requests!=2.18.0,>=2.14.2->docker) (1.24.3)\n",
      "Requirement already satisfied: chardet<4,>=3.0.2 in /home/rachelle2/.pyenv/versions/3.6.9/envs/laputa-3.6/lib/python3.6/site-packages (from requests!=2.18.0,>=2.14.2->docker) (3.0.4)\n",
      "Requirement already satisfied: idna<3,>=2.5 in /home/rachelle2/.pyenv/versions/3.6.9/envs/laputa-3.6/lib/python3.6/site-packages (from requests!=2.18.0,>=2.14.2->docker) (2.9)\n",
      "Requirement already satisfied: certifi>=2017.4.17 in /home/rachelle2/.pyenv/versions/3.6.9/envs/laputa-3.6/lib/python3.6/site-packages (from requests!=2.18.0,>=2.14.2->docker) (2020.4.5.1)\n",
      "Requirement already satisfied: pytz>=2017.2 in /home/rachelle2/.pyenv/versions/3.6.9/envs/laputa-3.6/lib/python3.6/site-packages (from pandas>=0.23.0; extra == \"complete\"->dask[complete]) (2020.1)\n",
      "Requirement already satisfied: python-dateutil>=2.6.1 in /home/rachelle2/.pyenv/versions/3.6.9/envs/laputa-3.6/lib/python3.6/site-packages (from pandas>=0.23.0; extra == \"complete\"->dask[complete]) (2.8.1)\n",
      "Requirement already satisfied: Jinja2>=2.7 in /home/rachelle2/.pyenv/versions/3.6.9/envs/laputa-3.6/lib/python3.6/site-packages (from bokeh>=1.0.0; extra == \"complete\"->dask[complete]) (2.11.2)\n",
      "Requirement already satisfied: pillow>=4.0 in /home/rachelle2/.pyenv/versions/3.6.9/envs/laputa-3.6/lib/python3.6/site-packages (from bokeh>=1.0.0; extra == \"complete\"->dask[complete]) (7.1.2)\n",
      "Requirement already satisfied: packaging>=16.8 in /home/rachelle2/.pyenv/versions/3.6.9/envs/laputa-3.6/lib/python3.6/site-packages (from bokeh>=1.0.0; extra == \"complete\"->dask[complete]) (20.4)\n",
      "Requirement already satisfied: tornado>=5 in /home/rachelle2/.pyenv/versions/3.6.9/envs/laputa-3.6/lib/python3.6/site-packages (from bokeh>=1.0.0; extra == \"complete\"->dask[complete]) (6.0.4)\n",
      "Requirement already satisfied: typing_extensions>=3.7.4 in /home/rachelle2/.pyenv/versions/3.6.9/envs/laputa-3.6/lib/python3.6/site-packages (from bokeh>=1.0.0; extra == \"complete\"->dask[complete]) (3.7.4.2)\n",
      "Requirement already satisfied: locket in /home/rachelle2/.pyenv/versions/3.6.9/envs/laputa-3.6/lib/python3.6/site-packages (from partd>=0.3.10; extra == \"complete\"->dask[complete]) (0.2.0)\n",
      "Requirement already satisfied: tblib>=1.6.0 in /home/rachelle2/.pyenv/versions/3.6.9/envs/laputa-3.6/lib/python3.6/site-packages (from distributed>=2.0; extra == \"complete\"->dask[complete]) (1.6.0)\n",
      "Requirement already satisfied: contextvars; python_version < \"3.7\" in /home/rachelle2/.pyenv/versions/3.6.9/envs/laputa-3.6/lib/python3.6/site-packages (from distributed>=2.0; extra == \"complete\"->dask[complete]) (2.4)\n",
      "Requirement already satisfied: click>=6.6 in /home/rachelle2/.pyenv/versions/3.6.9/envs/laputa-3.6/lib/python3.6/site-packages (from distributed>=2.0; extra == \"complete\"->dask[complete]) (7.1.2)\n",
      "Requirement already satisfied: setuptools in /home/rachelle2/.pyenv/versions/3.6.9/envs/laputa-3.6/lib/python3.6/site-packages (from distributed>=2.0; extra == \"complete\"->dask[complete]) (40.6.2)\n",
      "Requirement already satisfied: zict>=0.1.3 in /home/rachelle2/.pyenv/versions/3.6.9/envs/laputa-3.6/lib/python3.6/site-packages (from distributed>=2.0; extra == \"complete\"->dask[complete]) (2.0.0)\n",
      "Requirement already satisfied: msgpack>=0.6.0 in /home/rachelle2/.pyenv/versions/3.6.9/envs/laputa-3.6/lib/python3.6/site-packages (from distributed>=2.0; extra == \"complete\"->dask[complete]) (1.0.0)\n",
      "Requirement already satisfied: psutil>=5.0 in /home/rachelle2/.pyenv/versions/3.6.9/envs/laputa-3.6/lib/python3.6/site-packages (from distributed>=2.0; extra == \"complete\"->dask[complete]) (5.7.0)\n",
      "Requirement already satisfied: sortedcontainers!=2.0.0,!=2.0.1 in /home/rachelle2/.pyenv/versions/3.6.9/envs/laputa-3.6/lib/python3.6/site-packages (from distributed>=2.0; extra == \"complete\"->dask[complete]) (2.1.0)\n",
      "Requirement already satisfied: MarkupSafe>=0.23 in /home/rachelle2/.pyenv/versions/3.6.9/envs/laputa-3.6/lib/python3.6/site-packages (from Jinja2>=2.7->bokeh>=1.0.0; extra == \"complete\"->dask[complete]) (1.1.1)\n",
      "Requirement already satisfied: pyparsing>=2.0.2 in /home/rachelle2/.pyenv/versions/3.6.9/envs/laputa-3.6/lib/python3.6/site-packages (from packaging>=16.8->bokeh>=1.0.0; extra == \"complete\"->dask[complete]) (2.4.7)\n",
      "Requirement already satisfied: immutables>=0.9 in /home/rachelle2/.pyenv/versions/3.6.9/envs/laputa-3.6/lib/python3.6/site-packages (from contextvars; python_version < \"3.7\"->distributed>=2.0; extra == \"complete\"->dask[complete]) (0.14)\n",
      "Requirement already satisfied: heapdict in /home/rachelle2/.pyenv/versions/3.6.9/envs/laputa-3.6/lib/python3.6/site-packages (from zict>=0.1.3->distributed>=2.0; extra == \"complete\"->dask[complete]) (1.0.1)\n",
      "Note: you may need to restart the kernel to use updated packages.\n"
     ]
    }
   ],
   "source": [
    "%pip install docker pymongo dask[complete] graphviz"
   ]
  },
  {
   "cell_type": "code",
   "execution_count": 3,
   "metadata": {},
   "outputs": [],
   "source": [
    "import os\n",
    "import docker\n",
    "\n",
    "docker_client = docker.from_env()\n",
    "\n",
    "mongo_container = docker_client.containers.run(\n",
    "    'mongo:latest',\n",
    "    detach=True,\n",
    "    name='mongo-data-prep',\n",
    "    remove=True,\n",
    "    ports={'27017/tcp': 27018},\n",
    "    mem_limit='512M',\n",
    "    volumes={\n",
    "        os.path.join(os.getcwd(), 'db'): {'bind': '/data/db', 'mode': 'rw'},\n",
    "        os.path.join(os.getcwd(), 'mongo.conf'): {'bind': '/etc/mongo.conf', 'mode': 'ro'}\n",
    "    }\n",
    ")"
   ]
  },
  {
   "cell_type": "code",
   "execution_count": 4,
   "metadata": {},
   "outputs": [
    {
     "data": {
      "text/plain": [
       "b'2020-05-29T12:42:59.795+0000 I  CONTROL  [main] Automatically disabling TLS 1.0, to force-enable TLS 1.0 specify --sslDisabledProtocols \\'none\\'\\n2020-05-29T12:42:59.804+0000 W  ASIO     [main] No TransportLayer configured during NetworkInterface startup\\n2020-05-29T12:42:59.804+0000 I  CONTROL  [initandlisten] MongoDB starting : pid=1 port=27017 dbpath=/data/db 64-bit host=95c3da2f35b2\\n2020-05-29T12:42:59.804+0000 I  CONTROL  [initandlisten] db version v4.2.5\\n2020-05-29T12:42:59.804+0000 I  CONTROL  [initandlisten] git version: 2261279b51ea13df08ae708ff278f0679c59dc32\\n2020-05-29T12:42:59.804+0000 I  CONTROL  [initandlisten] OpenSSL version: OpenSSL 1.1.1  11 Sep 2018\\n2020-05-29T12:42:59.804+0000 I  CONTROL  [initandlisten] allocator: tcmalloc\\n2020-05-29T12:42:59.804+0000 I  CONTROL  [initandlisten] modules: none\\n2020-05-29T12:42:59.804+0000 I  CONTROL  [initandlisten] build environment:\\n2020-05-29T12:42:59.804+0000 I  CONTROL  [initandlisten]     distmod: ubuntu1804\\n2020-05-29T12:42:59.804+0000 I  CONTROL  [initandlisten]     distarch: x86_64\\n2020-05-29T12:42:59.804+0000 I  CONTROL  [initandlisten]     target_arch: x86_64\\n2020-05-29T12:42:59.804+0000 I  CONTROL  [initandlisten] 512 MB of memory available to the process out of 15881 MB total system memory\\n2020-05-29T12:42:59.804+0000 I  CONTROL  [initandlisten] options: { net: { bindIp: \"*\" } }\\n2020-05-29T12:42:59.805+0000 W  STORAGE  [initandlisten] Detected unclean shutdown - /data/db/mongod.lock is not empty.\\n2020-05-29T12:42:59.805+0000 I  STORAGE  [initandlisten] Detected data files in /data/db created by the \\'wiredTiger\\' storage engine, so setting the active storage engine to \\'wiredTiger\\'.\\n2020-05-29T12:42:59.805+0000 W  STORAGE  [initandlisten] Recovering data from the last clean checkpoint.\\n2020-05-29T12:42:59.805+0000 I  STORAGE  [initandlisten] \\n2020-05-29T12:42:59.805+0000 I  STORAGE  [initandlisten] ** WARNING: Using the XFS filesystem is strongly recommended with the WiredTiger storage engine\\n2020-05-29T12:42:59.805+0000 I  STORAGE  [initandlisten] **          See http://dochub.mongodb.org/core/prodnotes-filesystem\\n2020-05-29T12:42:59.805+0000 I  STORAGE  [initandlisten] wiredtiger_open config: create,cache_size=256M,cache_overflow=(file_max=0M),session_max=33000,eviction=(threads_min=4,threads_max=4),config_base=false,statistics=(fast),log=(enabled=true,archive=true,path=journal,compressor=snappy),file_manager=(close_idle_time=100000,close_scan_interval=10,close_handle_minimum=250),statistics_log=(wait=0),verbose=[recovery_progress,checkpoint_progress],\\n2020-05-29T12:43:00.515+0000 I  STORAGE  [initandlisten] WiredTiger message [1590756180:515380][1:0x7fe0a8dd3b00], txn-recover: Recovering log 5 through 6\\n2020-05-29T12:43:00.584+0000 I  STORAGE  [initandlisten] WiredTiger message [1590756180:584217][1:0x7fe0a8dd3b00], txn-recover: Recovering log 6 through 6\\n2020-05-29T12:43:00.649+0000 I  STORAGE  [initandlisten] WiredTiger message [1590756180:649460][1:0x7fe0a8dd3b00], txn-recover: Main recovery loop: starting at 5/145024 to 6/256\\n2020-05-29T12:43:00.735+0000 I  STORAGE  [initandlisten] WiredTiger message [1590756180:735309][1:0x7fe0a8dd3b00], txn-recover: Recovering log 5 through 6\\n2020-05-29T12:43:00.791+0000 I  STORAGE  [initandlisten] WiredTiger message [1590756180:791163][1:0x7fe0a8dd3b00], txn-recover: Recovering log 6 through 6\\n2020-05-29T12:43:00.839+0000 I  STORAGE  [initandlisten] WiredTiger message [1590756180:839586][1:0x7fe0a8dd3b00], txn-recover: Set global recovery timestamp: (0, 0)\\n2020-05-29T12:43:00.851+0000 I  RECOVERY [initandlisten] WiredTiger recoveryTimestamp. Ts: Timestamp(0, 0)\\n2020-05-29T12:43:00.862+0000 I  STORAGE  [initandlisten] Timestamp monitor starting\\n2020-05-29T12:43:00.864+0000 I  CONTROL  [initandlisten] \\n2020-05-29T12:43:00.864+0000 I  CONTROL  [initandlisten] ** WARNING: Access control is not enabled for the database.\\n2020-05-29T12:43:00.864+0000 I  CONTROL  [initandlisten] **          Read and write access to data and configuration is unrestricted.\\n2020-05-29T12:43:00.864+0000 I  CONTROL  [initandlisten] \\n2020-05-29T12:43:00.883+0000 I  SHARDING [initandlisten] Marking collection local.system.replset as collection version: <unsharded>\\n2020-05-29T12:43:00.888+0000 I  STORAGE  [initandlisten] Flow Control is enabled on this deployment.\\n2020-05-29T12:43:00.889+0000 I  SHARDING [initandlisten] Marking collection admin.system.roles as collection version: <unsharded>\\n2020-05-29T12:43:00.889+0000 I  SHARDING [initandlisten] Marking collection admin.system.version as collection version: <unsharded>\\n2020-05-29T12:43:00.894+0000 I  SHARDING [initandlisten] Marking collection local.startup_log as collection version: <unsharded>\\n2020-05-29T12:43:00.894+0000 I  FTDC     [initandlisten] Initializing full-time diagnostic data capture with directory \\'/data/db/diagnostic.data\\'\\n2020-05-29T12:43:00.897+0000 I  SHARDING [LogicalSessionCacheRefresh] Marking collection config.system.sessions as collection version: <unsharded>\\n2020-05-29T12:43:00.897+0000 I  NETWORK  [listener] Listening on /tmp/mongodb-27017.sock\\n2020-05-29T12:43:00.897+0000 I  NETWORK  [listener] Listening on 0.0.0.0\\n2020-05-29T12:43:00.897+0000 I  NETWORK  [listener] waiting for connections on port 27017\\n2020-05-29T12:43:00.897+0000 I  SHARDING [LogicalSessionCacheReap] Marking collection config.transactions as collection version: <unsharded>\\n2020-05-29T12:43:01.014+0000 I  FTDC     [ftdc] Unclean full-time diagnostic data capture shutdown detected, found interim file, some metrics may have been lost. OK\\n2020-05-29T12:43:01.034+0000 I  SHARDING [ftdc] Marking collection local.oplog.rs as collection version: <unsharded>\\n'"
      ]
     },
     "execution_count": 4,
     "metadata": {},
     "output_type": "execute_result"
    }
   ],
   "source": [
    "mongo_container.logs()"
   ]
  },
  {
   "cell_type": "markdown",
   "metadata": {},
   "source": [
    "### Stop script for container"
   ]
  },
  {
   "cell_type": "code",
   "execution_count": 1,
   "metadata": {},
   "outputs": [
    {
     "ename": "NameError",
     "evalue": "name 'mongo_container' is not defined",
     "output_type": "error",
     "traceback": [
      "\u001b[0;31m---------------------------------------------------------------------------\u001b[0m",
      "\u001b[0;31mNameError\u001b[0m                                 Traceback (most recent call last)",
      "\u001b[0;32m<ipython-input-1-968b016c088e>\u001b[0m in \u001b[0;36m<module>\u001b[0;34m\u001b[0m\n\u001b[0;32m----> 1\u001b[0;31m \u001b[0mmongo_container\u001b[0m\u001b[0;34m.\u001b[0m\u001b[0mstop\u001b[0m\u001b[0;34m(\u001b[0m\u001b[0;34m)\u001b[0m\u001b[0;34m\u001b[0m\u001b[0;34m\u001b[0m\u001b[0m\n\u001b[0m",
      "\u001b[0;31mNameError\u001b[0m: name 'mongo_container' is not defined"
     ]
    }
   ],
   "source": [
    "mongo_container.stop()"
   ]
  },
  {
   "cell_type": "markdown",
   "metadata": {},
   "source": [
    "### Set up Mongo client"
   ]
  },
  {
   "cell_type": "code",
   "execution_count": 5,
   "metadata": {},
   "outputs": [],
   "source": [
    "from pymongo import InsertOne, MongoClient\n",
    "mongo_client = MongoClient('127.0.0.1', 27018)\n",
    "db = mongo_client['prep-test']"
   ]
  },
  {
   "cell_type": "markdown",
   "metadata": {},
   "source": [
    "### Filling with Random Data"
   ]
  },
  {
   "cell_type": "code",
   "execution_count": 6,
   "metadata": {},
   "outputs": [
    {
     "data": {
      "text/plain": [
       "{'_id': ObjectId('5ed1035e66d7316b5f0007c6'),\n",
       " 'color': 'red',\n",
       " 'number': 93,\n",
       " 'random': 'CHOCOLATE'}"
      ]
     },
     "execution_count": 6,
     "metadata": {},
     "output_type": "execute_result"
    }
   ],
   "source": [
    "import random\n",
    "\n",
    "COLLECTION_NAME = 'test_data'\n",
    "MAX_NUM_OF_DOCS = 1001\n",
    "\n",
    "# Template of doc looks like { 'color' : 'purple', 'number' : 1, 'random' : 'PUPPIES' }\n",
    "# Lists and number ranged to populate the random documents\n",
    "list_of_random = ['PUPPIES', 'CHOCOLATE', 'SONATA', 'RATATOUILLE', 'HYPERDRIVE', 'RIFIFI']\n",
    "list_of_colors = ['black', 'orange', 'purple', 'red', 'blue']\n",
    "NUM_CAP = 101\n",
    "\n",
    "def generate_doc():\n",
    "    return {\n",
    "        'color' : random.choice(list_of_colors),\n",
    "        'number' : random.choice(range(NUM_CAP)),\n",
    "        'random' : random.choice(list_of_random)\n",
    "    }\n",
    "\n",
    "def insert_doc(col_name):\n",
    "    if col_name == COLLECTION_NAME:\n",
    "        return InsertOne(generate_doc())\n",
    "    else:\n",
    "        return InsertOne(generate_thingamabobs())\n",
    "      \n",
    "def check_for_data(col_name):\n",
    "    return db[col_name].find_one()\n",
    "\n",
    "def load_data_into_db(max_num_of_docs, col_name):\n",
    "    db[col_name].drop()\n",
    "    db[col_name].bulk_write([insert_doc(col_name) for i in range(max_num_of_docs)])\n",
    "\n",
    "load_data_into_db(MAX_NUM_OF_DOCS, COLLECTION_NAME)\n",
    "check_for_data(COLLECTION_NAME)"
   ]
  },
  {
   "cell_type": "markdown",
   "metadata": {},
   "source": [
    "### Add One More Starting Collection"
   ]
  },
  {
   "cell_type": "code",
   "execution_count": 7,
   "metadata": {},
   "outputs": [
    {
     "data": {
      "text/plain": [
       "{'_id': ObjectId('5ed1036766d7316b5f000baf'),\n",
       " 'name': 'bodge',\n",
       " 'foo': 'bor',\n",
       " 'level_of_baz': 33,\n",
       " 'color': 'red'}"
      ]
     },
     "execution_count": 7,
     "metadata": {},
     "output_type": "execute_result"
    }
   ],
   "source": [
    "ANOTHER_COLLECTION_NAME = 'thingamabobs'\n",
    "\n",
    "list_of_t_names = ['budge', 'bodge', 'bidge', 'badge', 'bedge']\n",
    "list_of_foos = ['bar', 'baz', 'biz', 'bor', 'boz']\n",
    "\n",
    "def generate_thingamabobs():\n",
    "    return {\n",
    "        'name': random.choice(list_of_t_names),\n",
    "        'foo': random.choice(list_of_foos),\n",
    "        'level_of_baz': random.choice(range(NUM_CAP)),\n",
    "        'color': random.choice(list_of_colors)\n",
    "    }\n",
    "\n",
    "\n",
    "load_data_into_db(MAX_NUM_OF_DOCS, ANOTHER_COLLECTION_NAME)\n",
    "check_for_data(ANOTHER_COLLECTION_NAME)"
   ]
  },
  {
   "cell_type": "markdown",
   "metadata": {},
   "source": [
    "## Mongo Pipeline"
   ]
  },
  {
   "cell_type": "code",
   "execution_count": 8,
   "metadata": {},
   "outputs": [],
   "source": [
    "MONGO_PIPELINE = [\n",
    "    {\n",
    "        'output_domain': 'purple',\n",
    "        'query': [\n",
    "            {\n",
    "                '$match': {\n",
    "                    'domain': 'test_data',\n",
    "                    'color': 'purple'\n",
    "                }\n",
    "            }\n",
    "        ]\n",
    "    },\n",
    "    {\n",
    "        'output_domain': 'stuff',\n",
    "        'query': [\n",
    "            {\n",
    "                '$match': {\n",
    "                    'domain': 'thingamabobs',\n",
    "                    'foo': 'bar'\n",
    "                }\n",
    "            }\n",
    "        ]\n",
    "    },\n",
    "    {\n",
    "        'output_domain': 'result',\n",
    "        'query': [\n",
    "            {\n",
    "                '$match': {\n",
    "                    'domain': 'purple',\n",
    "                    'random': 'PUPPIES'\n",
    "                }\n",
    "            },\n",
    "            {\n",
    "                '$lookup': {\n",
    "                   'from': 'stuff',\n",
    "                   'localField': 'color',\n",
    "                    'foreignField': 'color',\n",
    "                    'as': 'thingamabob'\n",
    "                }\n",
    "            }\n",
    "        ]\n",
    "    }\n",
    "]"
   ]
  },
  {
   "cell_type": "markdown",
   "metadata": {},
   "source": [
    "## Other Dependencies\n",
    "\n",
    "### Query utils"
   ]
  },
  {
   "cell_type": "code",
   "execution_count": 20,
   "metadata": {},
   "outputs": [],
   "source": [
    "from typing import List\n",
    "def get_query_domain(query, domains=None):\n",
    "    if domains is None:\n",
    "        domains = []\n",
    "    if isinstance(query, dict):\n",
    "        for k, v in query.items():\n",
    "            if k == 'domain':\n",
    "                domains.append(v)\n",
    "            elif k == '$match' and isinstance(v, dict) or isinstance(v, list):\n",
    "                get_query_domain(v, domains)\n",
    "    elif isinstance(query, list):\n",
    "        for x in query:\n",
    "            if isinstance(x, (list, dict)):\n",
    "                get_query_domain(x, domains)\n",
    "    res = set(domains)\n",
    "    if len(res) == 1:\n",
    "        return res.pop()\n",
    "    else:\n",
    "        raise InvalidDomain(f'Found more than one domain (or none) for query {query}: {res}')\n",
    "\n",
    "        \n",
    "class InvalidDomain(Exception):\n",
    "    \"\"\" Raised when there is not exactly one domain in the query\"\"\"\n",
    "\n",
    "    \n",
    "def get_lookup_domain(lookup):\n",
    "    \"\"\"Extract the from value from a $lookup\"\"\"\n",
    "    if isinstance(lookup, dict) and 'from' in lookup:\n",
    "        return lookup['from']\n",
    "\n",
    "        \n",
    "def get_query_lookup_operators(query_operators: List[dict]) -> List[dict]:\n",
    "    \"\"\" Returns the $lookups having a from and a pipeline childs \"\"\"\n",
    "    operators: List[dict] = []\n",
    "\n",
    "    def crawl_operators(query_operators: List[dict], operators: List[dict], level: int):\n",
    "        if not isinstance(query_operators, list):\n",
    "            return\n",
    "        for query_operator in query_operators:\n",
    "            for k, v in query_operator.items():\n",
    "                if k == '$lookup':\n",
    "                    operators.append({k: v})\n",
    "                    if 'from' and 'pipeline' in v:\n",
    "                        crawl_operators(v['pipeline'], operators, level + 1)\n",
    "\n",
    "    crawl_operators(query_operators, operators, 0)\n",
    "    return operators\n",
    "\n",
    "\n",
    "def get_query_lookup_domains(query):\n",
    "    \"\"\"Iterate over each $match and $lookup.\"\"\"\n",
    "    domains = []\n",
    "    operators = get_query_lookup_operators(query)\n",
    "\n",
    "    for operator in operators:\n",
    "        if '$lookup' in operator:\n",
    "            domains.append(get_lookup_domain(operator['$lookup']))\n",
    "            print('domains ', domains)\n",
    "\n",
    "    return [domain for domain in domains if domain]"
   ]
  },
  {
   "cell_type": "markdown",
   "metadata": {},
   "source": [
    "### Current DSK building code"
   ]
  },
  {
   "cell_type": "code",
   "execution_count": 10,
   "metadata": {},
   "outputs": [],
   "source": [
    "import copy\n",
    "\n",
    "class ReformattedPipelineStep():\n",
    "    def __init__(self, aggregation_executor, input_domains=[], output_domain=''):\n",
    "        self.input_domains = input_domains\n",
    "        self.output_domain = output_domain\n",
    "        self.aggregation_executor = aggregation_executor\n",
    "\n",
    "\n",
    "class MongoDSK():\n",
    "    def __init__(self, m_pipeline):\n",
    "        self.m_pipeline = m_pipeline\n",
    "        self.reformatted_pipeline = []\n",
    "\n",
    "    def determine_pts_of_entry(self):\n",
    "        \"\"\"\n",
    "        Determines points of entry in the Dask graph\n",
    "\n",
    "        This is for being able to build a Mongo DSK object that can contain multiple points of entry\n",
    "        \"\"\"\n",
    "        reformatted_pipeline = self.reformatted_pipeline\n",
    "        print('reformatted_pipeline ', reformatted_pipeline)\n",
    "        pts_of_entry = []\n",
    "        output_domains = [step.output_domain for step in reformatted_pipeline]\n",
    "        for step in reformatted_pipeline:\n",
    "            for input_domain in step.input_domains:\n",
    "                if input_domain not in output_domains:\n",
    "                    pts_of_entry.append(input_domain)\n",
    "        print(pts_of_entry)\n",
    "        return pts_of_entry\n",
    "\n",
    "    def build_dsk(self, db):\n",
    "        \"\"\"Builds the final dsk for running with dask\"\"\"\n",
    "        reformatted_pipeline = self.build_reformatted_m_pipeline(db)\n",
    "        self.reformatted_pipeline = reformatted_pipeline\n",
    "        pts_of_entry = self.determine_pts_of_entry()\n",
    "\n",
    "        dsk = {\n",
    "            **{\n",
    "               add_col_string(input_domain) : input_domain for input_domain in pts_of_entry\n",
    "            },\n",
    "            **{\n",
    "                add_col_string(step.output_domain): (\n",
    "                    step.aggregation_executor,\n",
    "                    *[add_col_string(domain) for domain in step.input_domains],\n",
    "                )\n",
    "                for step in reformatted_pipeline\n",
    "            },\n",
    "        }\n",
    "        return dsk\n",
    "\n",
    "    def build_reformatted_m_pipeline(self, db):\n",
    "        \"\"\"\n",
    "        Reformats the ETL_config Mongo pipeline for building the dsk\n",
    "        \n",
    "        The reformatted Mongo pipeline should have an $out stage, extracted input_domains and an output_domain, plus an aggregation_executor function \n",
    "        \"\"\"\n",
    "        print('-------------- HERE -------------------')\n",
    "        test = [\n",
    "            ReformattedPipelineStep(\n",
    "                input_domains=self.extract_input_domains(step['query']),\n",
    "                output_domain=step['output_domain'],\n",
    "                aggregation_executor=self.create_aggregation_executor(\n",
    "                    self.add_out_stage_to_step(step)['query'], step['output_domain'],\n",
    "                    db\n",
    "                ),\n",
    "            )\n",
    "            for step in self.m_pipeline\n",
    "        ]\n",
    "        print('test ', test)\n",
    "        return [\n",
    "            ReformattedPipelineStep(\n",
    "                input_domains=self.extract_input_domains(step['query']),\n",
    "                output_domain=step['output_domain'],\n",
    "                aggregation_executor=self.create_aggregation_executor(\n",
    "                    self.add_out_stage_to_step(step)['query'], step['output_domain'],\n",
    "                    db\n",
    "                ),\n",
    "            )\n",
    "            for step in self.m_pipeline\n",
    "        ]\n",
    "\n",
    "    def create_aggregation_executor(self, agg_query, output_domain, db):\n",
    "        \"\"\"Function factory for an aggregation_executor function\"\"\"\n",
    "\n",
    "        def execute_aggregation(*input_domains):\n",
    "            print('INPUT', input_domains[0])\n",
    "            print('COUNT', db[input_domains[0]].count_documents({}))\n",
    "            print('EXECUTE', agg_query)\n",
    "            print('OUTPUT', output_domain)\n",
    "            db[input_domains[0]].aggregate(agg_query, allowDiskUse=True)\n",
    "            print('RESULTS', db[output_domain].count_documents({}))\n",
    "            return output_domain\n",
    "\n",
    "        return execute_aggregation\n",
    "\n",
    "    def extract_input_domains(self, query):\n",
    "        \"\"\"\n",
    "        All execution functions should be put here\n",
    "\n",
    "        Currently, we can extract a $match and a $lookup with a pipeline\n",
    "        \"\"\"\n",
    "        return [get_query_domain(query), *get_query_lookup_domains(query)]\n",
    "\n",
    "    def add_out_stage_to_step(self, m_step):\n",
    "        \"\"\"This adds the '$out' stage to the Mongo pipeline step\"\"\"\n",
    "        m_step_copy = copy.deepcopy(m_step)\n",
    "        m_step_query = m_step_copy['query']\n",
    "\n",
    "        # delete unnecessary domain in the mongo pipeline step\n",
    "        m_step_query[0]['$match'].pop('domain')\n",
    "\n",
    "        # add the '$out' stage\n",
    "        m_step_query.append({'$out': m_step['output_domain']})\n",
    "        return m_step_copy\n",
    "\n",
    "\n",
    "def add_col_string(col_name):\n",
    "    \"\"\"\n",
    "    This adds a 'col' to the front of the collection name\n",
    "\n",
    "    For the purposes of graphviz, we need this to avoid looping on self\n",
    "    \"\"\"\n",
    "    return f'col:{col_name}'\n"
   ]
  },
  {
   "cell_type": "markdown",
   "metadata": {},
   "source": [
    "## Add code to start to visualize graph"
   ]
  },
  {
   "cell_type": "code",
   "execution_count": 21,
   "metadata": {},
   "outputs": [
    {
     "name": "stdout",
     "output_type": "stream",
     "text": [
      "-------------- HERE -------------------\n",
      "domains  ['stuff']\n",
      "test  [<__main__.ReformattedPipelineStep object at 0x7f6894b39b38>, <__main__.ReformattedPipelineStep object at 0x7f6894b396a0>, <__main__.ReformattedPipelineStep object at 0x7f68951f8d30>]\n",
      "domains  ['stuff']\n",
      "reformatted_pipeline  [<__main__.ReformattedPipelineStep object at 0x7f68951f8400>, <__main__.ReformattedPipelineStep object at 0x7f68951f8b38>, <__main__.ReformattedPipelineStep object at 0x7f68951f8cf8>]\n",
      "['test_data', 'thingamabobs']\n",
      "dsk  {'col:test_data': 'test_data', 'col:thingamabobs': 'thingamabobs', 'col:purple': (<function MongoDSK.create_aggregation_executor.<locals>.execute_aggregation at 0x7f6894b50268>, 'col:test_data'), 'col:stuff': (<function MongoDSK.create_aggregation_executor.<locals>.execute_aggregation at 0x7f6894b50378>, 'col:thingamabobs'), 'col:result': (<function MongoDSK.create_aggregation_executor.<locals>.execute_aggregation at 0x7f6894b506a8>, 'col:purple', 'col:stuff')}\n"
     ]
    }
   ],
   "source": [
    "dsk = MongoDSK(m_pipeline=MONGO_PIPELINE).build_dsk(db=db)\n",
    "print('dsk ', dsk)"
   ]
  },
  {
   "cell_type": "code",
   "execution_count": 18,
   "metadata": {},
   "outputs": [
    {
     "data": {
      "image/png": "[encoded data removed]",
      "text/plain": [
       "<IPython.core.display.Image object>"
      ]
     },
     "execution_count": 18,
     "metadata": {},
     "output_type": "execute_result"
    }
   ],
   "source": [
    "import dask\n",
    "\n",
    "dask.visualize(dsk)"
   ]
  },
  {
   "cell_type": "code",
   "execution_count": 19,
   "metadata": {},
   "outputs": [
    {
     "name": "stdout",
     "output_type": "stream",
     "text": [
      "INPUT test_data\n",
      "COUNT 1001\n",
      "EXECUTE [{'$match': {'color': 'purple'}}, {'$out': 'purple'}]\n",
      "OUTPUT purple\n",
      "RESULTS 199\n",
      "INPUT thingamabobs\n",
      "COUNT 1001\n",
      "EXECUTE [{'$match': {'foo': 'bar'}}, {'$out': 'stuff'}]\n",
      "OUTPUT stuff\n",
      "RESULTS 212\n",
      "INPUT purple\n",
      "COUNT 199\n",
      "EXECUTE [{'$match': {'random': 'PUPPIES'}}, {'$lookup': {'from': 'stuff', 'localField': 'color', 'foreignField': 'color', 'as': 'thingamabob'}}, {'$out': 'result'}]\n",
      "OUTPUT result\n",
      "RESULTS 41\n"
     ]
    },
    {
     "data": {
      "text/plain": [
       "('result',)"
      ]
     },
     "execution_count": 19,
     "metadata": {},
     "output_type": "execute_result"
    }
   ],
   "source": [
    "dask.get(dsk, [add_col_string('result')])"
   ]
  }
 ],
 "metadata": {
  "kernelspec": {
   "display_name": "Python 3",
   "language": "python",
   "name": "python3"
  },
  "language_info": {
   "codemirror_mode": {
    "name": "ipython",
    "version": 3
   },
   "file_extension": ".py",
   "mimetype": "text/x-python",
   "name": "python",
   "nbconvert_exporter": "python",
   "pygments_lexer": "ipython3",
   "version": "3.6.9"
  }
 },
 "nbformat": 4,
 "nbformat_minor": 4
}
